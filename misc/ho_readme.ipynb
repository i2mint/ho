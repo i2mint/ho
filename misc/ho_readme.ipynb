{
 "cells": [
  {
   "cell_type": "markdown",
   "metadata": {},
   "source": [
    "# ho\n",
    "\n",
    "Http Objects - Tools to make python interfaces to http services.\n",
    "\n",
    "Technically speaking, this is lightweight Python library for turning URL templates and OpenAPI specifications into usable Python functions.\n",
    "\n",
    "Informally speaking, this package gives you tools to make task-specific python objects that talk to the internet.\n",
    "\n",
    "To install:\t`pip install ho`"
   ]
  },
  {
   "cell_type": "markdown",
   "metadata": {},
   "source": [
    "## Quick Start\n",
    "\n",
    "The most common scenario: You have a URL template with placeholders and want to quickly create a Python function to make API calls:"
   ]
  },
  {
   "cell_type": "code",
   "execution_count": null,
   "metadata": {},
   "outputs": [
    {
     "data": {
      "text/plain": [
       "'<!doctype html><html itemscope=\"\" itemty...      </body></html>'"
      ]
     },
     "execution_count": 5,
     "metadata": {},
     "output_type": "execute_result"
    }
   ],
   "source": [
    "from ho import route_to_func\n",
    "\n",
    "# Create a function from a URL template\n",
    "search_google = route_to_func(\"https://www.google.com/search?q={search_term}\")\n",
    "\n",
    "# Use the function as if it were hand-written\n",
    "results = search_google(\"python openapi\")\n",
    "results[:40] + '...' + results[-20:]"
   ]
  },
  {
   "cell_type": "markdown",
   "metadata": {},
   "source": [
    "That's it! The library handles parameter extraction, HTTP requests, and response processing automatically.\n",
    "\n",
    "Well. Not really \"that's it\". Of course, there's many more control parameters to extend this further. Let's have a look at a few."
   ]
  },
  {
   "cell_type": "markdown",
   "metadata": {},
   "source": [
    "## How It Works\n",
    "\n",
    "This is what happened under the hood, when you do just a `func = route_to_func(url_template)`.\n",
    "\n",
    "1. Parses your URL template\n",
    "2. Generates an [OpenAPI Specification](https://www.openapis.org/) (formerly known as Swagger)\n",
    "3. Creates a Python function with the correct signature based on this specification\n",
    "4. Sets up all the necessary HTTP request handling\n",
    "\n",
    "Of course, there's a much more direct route from a url template to a function. \n",
    "You can specify pretty much any aspect of a webservice API, using the OpenAPI Specification. \n",
    "We chose to go via the OpenAPI specification because it enables us to quickly connect to a \n",
    "[huge ecosystem of other tools](https://openapi.tools/) you'll then be able to use. \n",
    "\n",
    "The [OpenAPI Specification](https://swagger.io/specification/) is an [industry standard](https://theirstack.com/en/technology/openapi-specification) for describing HTTP APIs in a language-agnostic way. \n",
    "Today, most significant APIs publish such specifications, enabling automatic \n",
    "[code generation](https://openapi-generator.tech/docs/generators/) in various programming languages.\n",
    "\n",
    "While traditional approaches often use static code generation, this library provides a dynamic runtime solution to create Python interfaces to HTTP services using OpenAPI specifications. \n",
    "\n",
    "Now, it's not always what you want. Once your API is stable, static code is usually a better idea. But in many cases, you don't want to have to generate static code, put it in your python path, import it, and all that jazz. \n",
    "\n",
    "This is when `ho` is the tool you want. "
   ]
  },
  {
   "cell_type": "markdown",
   "metadata": {},
   "source": [
    "## More Examples"
   ]
  },
  {
   "cell_type": "markdown",
   "metadata": {},
   "source": [
    "### Path Parameters with Default Values"
   ]
  },
  {
   "cell_type": "code",
   "execution_count": 2,
   "metadata": {},
   "outputs": [],
   "source": [
    "# URL with path and query parameters including defaults\n",
    "get_country = route_to_func(\n",
    "    \"https://restcountries.com/v3.1/name/{country_name}?fullText={full_text:false}\",\n",
    "    description=\"Get country information by name\",\n",
    "    param_types={\"country_name\": \"string\", \"full_text\": \"boolean\"}\n",
    ")\n",
    "\n",
    "# Call with required parameters, using defaults for the rest\n",
    "countries = get_country(country_name=\"germany\")\n",
    "\n",
    "# Or override the defaults\n",
    "exact_match = get_country(country_name=\"germany\", full_text=True)"
   ]
  },
  {
   "cell_type": "markdown",
   "metadata": {},
   "source": [
    "### Custom Headers and Authentication"
   ]
  },
  {
   "cell_type": "markdown",
   "metadata": {},
   "source": [
    "This is to demo cases where the API needs authentication.\n",
    "\n",
    "The example will work only if you have a GitHub token that you placed in an environmental variable called `GITHUB_TOKEN`.\n",
    "\n",
    "(If you don't have one, go get one, it's free! We like free!)"
   ]
  },
  {
   "cell_type": "code",
   "execution_count": null,
   "metadata": {},
   "outputs": [],
   "source": [
    "# API requiring authentication\n",
    "import os \n",
    "\n",
    "github_api = route_to_func(\n",
    "    \"https://api.github.com/repos/{owner}/{repo}/issues\",\n",
    "    description=\"List issues for a repository\",\n",
    "    custom_headers={\n",
    "        \"Authorization\": os.environ.get(\"GITHUB_TOKEN\"),\n",
    "        \"Accept\": \"application/vnd.github.v3+json\"\n",
    "    }\n",
    ")"
   ]
  },
  {
   "cell_type": "markdown",
   "metadata": {},
   "source": [
    "Let's play with that:"
   ]
  },
  {
   "cell_type": "code",
   "execution_count": null,
   "metadata": {},
   "outputs": [
    {
     "name": "stdout",
     "output_type": "stream",
     "text": [
      "Issue fields: ['url', 'repository_url', 'labels_url', 'comments_url', 'events_url', 'html_url', 'id', 'node_id', 'number', 'title', 'user', 'labels', 'state', 'locked', 'assignee', 'assignees', 'milestone', 'comments', 'created_at', 'updated_at', 'closed_at', 'author_association', 'type', 'active_lock_reason', 'draft', 'pull_request', 'body', 'closed_by', 'reactions', 'timeline_url', 'performed_via_github_app', 'state_reason']\n",
      "First issue title: feat(api): return better error message on missing embedding\n"
     ]
    }
   ],
   "source": [
    "issues = github_api(owner=\"openai\", repo=\"openai-python\")\n",
    "\n",
    "first_issue = issues[0] if issues else None\n",
    "if first_issue:\n",
    "    print(f\"Issue fields: {list(first_issue)}\")\n",
    "    print(f\"First issue title: {issues[0]['title']}\")\n"
   ]
  },
  {
   "cell_type": "markdown",
   "metadata": {},
   "source": [
    "# More (non runnable) examples"
   ]
  },
  {
   "cell_type": "markdown",
   "metadata": {},
   "source": [
    "The rest of these examples are not runnable, but just illustrative of the functionalities of `ho`."
   ]
  },
  {
   "cell_type": "markdown",
   "metadata": {},
   "source": [
    "### POST Requests with JSON Body"
   ]
  },
  {
   "cell_type": "code",
   "execution_count": null,
   "metadata": {},
   "outputs": [],
   "source": [
    "# Creating resources with POST\n",
    "create_item = route_to_func(\n",
    "    \"https://api.example.com/items\",\n",
    "    method=\"post\",\n",
    "    description=\"Create a new item\",\n",
    "    param_types={\"name\": \"string\", \"price\": \"number\"}\n",
    ")\n",
    "\n",
    "new_item = create_item(name=\"New Product\", price=19.99)"
   ]
  },
  {
   "cell_type": "markdown",
   "metadata": {},
   "source": [
    "### Working with Full OpenAPI Specifications\n",
    "\n",
    "If you have an existing OpenAPI specification file:"
   ]
  },
  {
   "cell_type": "code",
   "execution_count": null,
   "metadata": {},
   "outputs": [],
   "source": [
    "import yaml\n",
    "from ho import routes_to_funcs\n",
    "\n",
    "# Load the OpenAPI spec\n",
    "with open('api_spec.yaml', 'r') as f:\n",
    "    spec = yaml.safe_load(f)\n",
    "\n",
    "# Create functions for all endpoints\n",
    "api_client = routes_to_funcs(spec, \"https://api.example.com\")\n",
    "\n",
    "# Use the functions\n",
    "users = api_client['get', '/users']()\n",
    "user = api_client['get', '/users/{id}'](id=123)"
   ]
  },
  {
   "cell_type": "markdown",
   "metadata": {},
   "source": [
    "Or convert them to a namespace for even easier access:"
   ]
  },
  {
   "cell_type": "code",
   "execution_count": null,
   "metadata": {},
   "outputs": [],
   "source": [
    "from ho import routes_to_namespace\n",
    "\n",
    "# Create a namespace with all API functions\n",
    "api = routes_to_namespace(spec, \"https://api.example.com\")\n",
    "\n",
    "# Access functions by their generated names\n",
    "users = api.get_users()\n",
    "user = api.get_users_id_(id=123)"
   ]
  },
  {
   "cell_type": "markdown",
   "metadata": {},
   "source": [
    "## Advanced Features"
   ]
  },
  {
   "cell_type": "markdown",
   "metadata": {},
   "source": [
    "### Custom Response Processing"
   ]
  },
  {
   "cell_type": "code",
   "execution_count": null,
   "metadata": {},
   "outputs": [],
   "source": [
    "def process_xml_response(response):\n",
    "    import xml.etree.ElementTree as ET\n",
    "    root = ET.fromstring(response.text)\n",
    "    # Process the XML\n",
    "    return {\"processed\": True, \"data\": root}\n",
    "\n",
    "xml_api = route_to_func(\n",
    "    \"https://api.example.com/xml/{resource}\",\n",
    "    egress=process_xml_response\n",
    ")"
   ]
  },
  {
   "cell_type": "markdown",
   "metadata": {},
   "source": [
    "### Error Handling"
   ]
  },
  {
   "cell_type": "code",
   "execution_count": null,
   "metadata": {},
   "outputs": [],
   "source": [
    "def custom_error_handler(response, exception=None):\n",
    "    if exception:\n",
    "        print(f\"Request failed: {exception}\")\n",
    "        return {\"error\": str(exception)}\n",
    "    \n",
    "    if response.status_code >= 400:\n",
    "        print(f\"API error: {response.status_code}\")\n",
    "        return {\"error\": response.text}\n",
    "    \n",
    "    return response\n",
    "\n",
    "api = route_to_func(\n",
    "    \"https://api.example.com/{resource}\",\n",
    "    error_handler=custom_error_handler\n",
    ")"
   ]
  },
  {
   "cell_type": "markdown",
   "metadata": {},
   "source": [
    "## Why Use This Library?\n",
    "\n",
    "1. **No Code Generation**: Unlike traditional OpenAPI tools that generate static code, this library creates functions dynamically at runtime. \n",
    "2. **Simplified Interface**: Turn complex HTTP API calls into simple Python function calls.\n",
    "3. **Type Hints and Documentation**: Generated functions include proper signatures and docstrings.\n",
    "4. **Flexibility**: Works with both simple URL templates and complete OpenAPI specifications.\n",
    "5. **Lightweight**: No complex dependencies or build processes required."
   ]
  },
  {
   "cell_type": "markdown",
   "metadata": {},
   "source": [
    "## Comparison to Other Tools\n",
    "\n",
    "Most OpenAPI tools like [OpenAPI Generator](https://openapi-generator.tech/) generate static code in multiple languages. This approach requires a build step and often results in large codebases. Our library provides a lightweight alternative with dynamic function creation at runtime, which is perfect for Python's dynamic nature and for rapid prototyping."
   ]
  },
  {
   "cell_type": "markdown",
   "metadata": {},
   "source": [
    "## Installation\n",
    "\n",
    "```bash\n",
    "pip install ho-openapi\n",
    "```"
   ]
  },
  {
   "cell_type": "markdown",
   "metadata": {},
   "source": [
    "## License\n",
    "\n",
    "MIT"
   ]
  }
 ],
 "metadata": {
  "kernelspec": {
   "display_name": "p10",
   "language": "python",
   "name": "python3"
  },
  "language_info": {
   "codemirror_mode": {
    "name": "ipython",
    "version": 3
   },
   "file_extension": ".py",
   "mimetype": "text/x-python",
   "name": "python",
   "nbconvert_exporter": "python",
   "pygments_lexer": "ipython3",
   "version": "3.10.13"
  }
 },
 "nbformat": 4,
 "nbformat_minor": 4
}
